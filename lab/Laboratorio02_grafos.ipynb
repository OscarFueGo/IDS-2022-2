{
  "nbformat": 4,
  "nbformat_minor": 0,
  "metadata": {
    "colab": {
      "provenance": []
    },
    "kernelspec": {
      "name": "python3",
      "display_name": "Python 3"
    }
  },
  "cells": [
    {
      "cell_type": "markdown",
      "metadata": {
        "id": "2_01XUK2fbnE"
      },
      "source": [
        "![](https://drive.google.com/uc?export=view&id=1-5X9OUkA-C2Ih1gOS9Jd7GmkTWUEpDg1)\n",
        "\n",
        "Asignatura: Introducción a Data Science\n",
        "\n",
        "Profesor: Juan Bekios Calfa\n",
        "\n",
        "---\n",
        "\n",
        "\n",
        "\n",
        "# Laboratorio 03: Teoría de grafos\n",
        "\n",
        "En los cursos de ciencias básicas de computación se estudia con frecuencia el problema del vendedor viajero (problema del vendedor ambulante, problema del agente viajero o problema del viajante (**TSP** por sus siglas en inglés, *Travelling Salesman Problem*) y se definen como: dada una lista de ciudades y las distancias entre cada par de ellas, ¿cuál es la ruta más corta posible que visita cada ciudad exactamente una vez y al finalizar regresa a la ciudad origen? Este es un problema NP-Hard dentro en la optimización combinatoria, muy importante en investigación operativa y en ciencias de la computación. [wikipedia](https://es.wikipedia.org/wiki/Problema_del_viajante)\n",
        "\n",
        "También, existe otro tipo de problemas interesantes y similares al del vendedor viajero. Uno de ellos, es el que implementaremos en este laboratorio, denominado problema del cartero chino (PCC). El problema consiste en **encontrar el camino más corto o circuito cerrado**, que **visite cada arista de un grafo (conectado) no direccionado**, o sea, que pase al menos una vez por cada arista del grafo, volviendo al punto (o nodo) de partida. Cuando el grafo posee un circuito euleriano (un paseo cerrado que alcance toda arista solamente una vez), ese circuito es una solución óptima. [wikipedia](https://es.wikipedia.org/wiki/Problema_del_cartero_chino)\n",
        "\n",
        "**Problema**:\n",
        "\n",
        "El parque Sleeping Giant State, ubicado en  New Haven, Connecticut, Estados Unidos. Es un parque compuesto de un sin número de senderos que permiten a los turistas caminar por ellos. Como el parque tiene una extensión de terreno muy grande, mucha gente decide recorrer todos los senderos en un solo día. \n",
        "\n",
        "![](https://www.wnpr.org/sites/wnpr/files/styles/x_large/public/201906/sleeping__3_of_5_.jpg)\n",
        "\n",
        "Como el calcular la ruta adecuada no es fácil recurriremos al material visto en clases para poder encontrar la ruta óptima que nos permita recorrer todos los senderos en un mínimo de tiempo.\n",
        "\n",
        "Para poder resolver este problema contamos con un plano que indica cada una de esas rutas.\n",
        "\n",
        "![](https://giantstout.files.wordpress.com/2010/10/sg-trail-map.jpg?w=640&h=460)\n",
        "\n",
        "El problema está basado en [link](https://www.datacamp.com/community/tutorials/networkx-python-graph-tutorial).\n",
        "\n",
        "## Librerías que se utilzarán en el laboratorio\n",
        "\n",
        "\n"
      ]
    },
    {
      "cell_type": "code",
      "metadata": {
        "id": "28ykz6Qqmk1d"
      },
      "source": [
        "import networkx as nx # Librería para grafos\n",
        "import pandas as pd # Librería para manejar datos (dataframe)\n",
        "import matplotlib.pyplot as plt # Librería para gráficos"
      ],
      "execution_count": null,
      "outputs": []
    },
    {
      "cell_type": "markdown",
      "metadata": {
        "id": "ter6SQysmlkQ"
      },
      "source": [
        "## 1. Carga de datos\n",
        "\n",
        "Para resolver este problema cargaremos un archivo que contiene una lista de con los arcos del grafo y cada fila contiene los siguientes campos:\n",
        "\n",
        "*   **node1** y **node2**: Nombre de los nodos conectados.\n",
        "*   **trail**: Atributo que indica un atributo del arco. (Por ejemplo, rs=cuadro rojo)\n",
        "*   **distance**: Atributo del arco que indica la longitud del sendero en millas.\n",
        "*   **color**: Color utilizado para indicar el sendero trazado.\n",
        "*   **estimate**: Distancia del arco estimada a partir de la observación de los senderos del mapa (1=SI, 0=N=), ya que algunas distancias no se proporcionan. Esto es solo de referencia y no será utilizado para el análisis.\n",
        "\n",
        "\n",
        "\n"
      ]
    },
    {
      "cell_type": "code",
      "metadata": {
        "id": "5FN0-gcyfaWf"
      },
      "source": [
        "# Grab edge list data hosted on Gist\n",
        "lista_arcos = pd.read_csv('https://gist.githubusercontent.com/brooksandrew/e570c38bcc72a8d102422f2af836513b/raw/89c76b2563dbc0e88384719a35cba0dfc04cd522/edgelist_sleeping_giant.csv')\n",
        "\n",
        "lista_arcos.head(10)"
      ],
      "execution_count": null,
      "outputs": []
    },
    {
      "cell_type": "markdown",
      "metadata": {
        "id": "KbVM95Imo79M"
      },
      "source": [
        "### Lista de nodos\n",
        "\n",
        "Las listas de nodos suelen ser opcionales en `networkx`, y otras bibliotecas de gráficos, cuando se proporcionan listas de arcos ya vienen los nombres por lo que no es necesario identificarlos. Sin embargo, en este caso, hay algunos atributos de nodo que nos gustaría añadir: Coordenadas X, Y de los nodos (intersecciones de senderos) para que pueda trazar su gráfica con el mismo diseño que el mapa de senderos.\n",
        "\n",
        "*    id: nombre del nodo correspondiente al nodo1 y al nodo2 en la lista de bordes.\n",
        "*    X: posición horizontal/coordenada del nodo correspondiente al topleft.\n",
        "*    Y: posición/coordinación vertical del nodo relativo al topleft."
      ]
    },
    {
      "cell_type": "code",
      "metadata": {
        "id": "O4v6eEEcqLcV"
      },
      "source": [
        "# Archivo de la lista de nodos\n",
        "lista_nodos = pd.read_csv('https://gist.githubusercontent.com/brooksandrew/f989e10af17fb4c85b11409fea47895b/raw/a3a8da0fa5b094f1ca9d82e1642b384889ae16e8/nodelist_sleeping_giant.csv')\n",
        "\n",
        "lista_nodos.head(10)"
      ],
      "execution_count": null,
      "outputs": []
    },
    {
      "cell_type": "markdown",
      "metadata": {
        "id": "v_5bOMjk3VKp"
      },
      "source": [
        "## 2. Creando el grafo\n",
        "\n",
        "Usaremos la lista de arcos (aristas) y la lista de nodos para crear el grafo utilizando las librerías de `networkx`."
      ]
    },
    {
      "cell_type": "code",
      "metadata": {
        "id": "AXkQu7VL3jQN"
      },
      "source": [
        "# Crear un grafo limpio\n",
        "\n",
        "g = nx.Graph()"
      ],
      "execution_count": null,
      "outputs": []
    },
    {
      "cell_type": "markdown",
      "metadata": {
        "id": "yN_DNQXb3tQf"
      },
      "source": [
        "Construimos el grafo ingresando cada uno de sus arcos y sus correspondientes atributos al grafo `g`."
      ]
    },
    {
      "cell_type": "code",
      "metadata": {
        "id": "8ExbF36U39Wz"
      },
      "source": [
        "# Agregar aristas y atributos a las aristas (arcos)\n",
        "\n",
        "for index, datos_arco in lista_arcos.iterrows():\n",
        "  print(datos_arco)\n",
        "  #print(f'{datos_arco[\"node1\"]}')\n",
        "  #print(f'Indice {index}:')\n",
        "  #print(datos_arco)\n",
        "  #print('-'*40)\n",
        "  #print(datos_arco[2:].to_dict())\n",
        "  #print('='*40)\n",
        "  #g.add_edge(datos_arco[0], datos_arco[1], attr_dict=datos_arco[2:].to_dict())"
      ],
      "execution_count": null,
      "outputs": []
    },
    {
      "cell_type": "markdown",
      "metadata": {
        "id": "L2Dlx4V_5-EI"
      },
      "source": [
        "Para ilustrar los valores devueltos revisamos la última fila examinada en el ciclo `for`."
      ]
    },
    {
      "cell_type": "code",
      "metadata": {
        "id": "XGO7AOkt6QaS"
      },
      "source": [
        "# Ejemplo de lista de arcos\n",
        "print(datos_arco[0]) # nodo 1\n",
        "print(datos_arco[1]) # nodo 2\n",
        "print(datos_arco[2:].to_dict()) # atributos asociados al arco"
      ],
      "execution_count": null,
      "outputs": []
    },
    {
      "cell_type": "markdown",
      "metadata": {
        "id": "bh8Axu8z6ln5"
      },
      "source": [
        "De la misma forma que se agregaron atributos a los arcos del grafo. Agregaremos los atributos a cada nodo."
      ]
    },
    {
      "cell_type": "code",
      "metadata": {
        "id": "91Q1rjVD6xbp"
      },
      "source": [
        "# Agregar atributos a los nodos\n",
        "for _, fila_nodo in lista_nodos.iterrows():\n",
        "  print(fila_nodo['id'], fila_nodo[1:].to_dict())\n",
        "  #g.nodes[fila_nodo['id']].update(fila_nodo[1:].to_dict())"
      ],
      "execution_count": null,
      "outputs": []
    },
    {
      "cell_type": "markdown",
      "metadata": {
        "id": "Z3odpgnc9rzD"
      },
      "source": [
        "Si anallizamos la última fila de la lista de nodos podemos ver:"
      ]
    },
    {
      "cell_type": "code",
      "metadata": {
        "id": "RksGOaJ694Ta"
      },
      "source": [
        "# Ejemplo de lista de nodos\n",
        "print(fila_nodo)"
      ],
      "execution_count": null,
      "outputs": []
    },
    {
      "cell_type": "markdown",
      "metadata": {
        "id": "ILjJ-_lR-LiM"
      },
      "source": [
        "## 3. Explorando el grafo creado\n",
        "\n",
        "El grafo creado almacena la información de cada arco en una tupla de tres elementos. Dos son string y el tercero es un diccionario."
      ]
    },
    {
      "cell_type": "code",
      "metadata": {
        "id": "1HpAE1dW-lBE"
      },
      "source": [
        "# Visualizar el grafo\n",
        "g.edges.data()\n",
        "\n",
        "# Listar la información de las aristas (arcos)\n",
        "#for arc in g.edges.data():\n",
        "#  print(arc)"
      ],
      "execution_count": null,
      "outputs": []
    },
    {
      "cell_type": "markdown",
      "metadata": {
        "id": "CghFuzxD-LdN"
      },
      "source": [
        "### Imprimir los primeros cinco arcos"
      ]
    },
    {
      "cell_type": "code",
      "metadata": {
        "id": "CkRlhiNPAejz"
      },
      "source": [
        "# Visualizar los primeros cinco arcos del grafo\n",
        "list(g.edges(data=True))[:5]"
      ],
      "execution_count": null,
      "outputs": []
    },
    {
      "cell_type": "markdown",
      "metadata": {
        "id": "TASN79yJA4L9"
      },
      "source": [
        "También podemos visualizar la información de los nodos:"
      ]
    },
    {
      "cell_type": "code",
      "metadata": {
        "id": "qrraiB1tA_Sx"
      },
      "source": [
        "# Visualizar los 10 primeros nodos\n",
        "list(g.nodes(data=True))[0:10]"
      ],
      "execution_count": null,
      "outputs": []
    },
    {
      "cell_type": "markdown",
      "metadata": {
        "id": "gwOP0NiBBRXg"
      },
      "source": [
        "### Estadísticas del grafo\n",
        "\n",
        "También se pueden imprimir algunas valores que resumen los elementos del grafo."
      ]
    },
    {
      "cell_type": "code",
      "metadata": {
        "id": "TIFa95YTBeDX"
      },
      "source": [
        "print(f'Número de arcos: {g.number_of_edges()}')\n",
        "print(f'Número de nodos: {g.number_of_nodes()}')"
      ],
      "execution_count": null,
      "outputs": []
    },
    {
      "cell_type": "markdown",
      "metadata": {
        "id": "-wBlWAfkB059"
      },
      "source": [
        "## 4. Visualización del grafo\n",
        "\n",
        "Primero hay que manipular las posiciones de los nodos del gráfico en un diccionario. Esto te permitirá recrear el gráfico usando la misma disposición que el mapa de senderos real. **Y** se anula para transformar el origen del eje Y de la parte superior izquierda a la inferior izquierda."
      ]
    },
    {
      "cell_type": "code",
      "metadata": {
        "id": "-nCx3sesChQI"
      },
      "source": [
        "# Defino las posiciones del nodo de la estructura de datos (dict) para graficarlo\n",
        "node_positions = {node[0]: (node[1]['X'], -node[1]['Y']) for node in g.nodes(data=True)}\n",
        "\n",
        "# Previsualización node_positions \n",
        "print(dict(list(node_positions.items())[0:5]))\n",
        "node_new_colors = dict(list(node_positions.items())[0:5])\n",
        "print(node_new_colors)"
      ],
      "execution_count": null,
      "outputs": []
    },
    {
      "cell_type": "markdown",
      "metadata": {
        "id": "qXxDWeGoEJnC"
      },
      "source": [
        "**Colores**: Ahora configuraremos los colores de los arcos del gráfico en una simple lista para se pueda visualizar los caminos (senderos) por su color."
      ]
    },
    {
      "cell_type": "code",
      "metadata": {
        "id": "GKR2TOHlEeMv"
      },
      "source": [
        "# Definir una estructura de datos (list) para los colores de los arcos en el gráfico\n",
        "edge_colors = [data['attr_dict']['color'] for _, _, data in g.edges(data=True)]\n",
        "\n",
        "# Preview first 10\n",
        "edge_colors[0:10]"
      ],
      "execution_count": null,
      "outputs": []
    },
    {
      "cell_type": "markdown",
      "metadata": {
        "id": "JRYOwuImH5UO"
      },
      "source": [
        "## 5. Graficar\n",
        "\n",
        "Ahora puedes hacer un buen gráfico que se alinee bien con el mapa de senderos del parque Sleeping Giant."
      ]
    },
    {
      "cell_type": "code",
      "metadata": {
        "id": "vX7fBM8sHGow"
      },
      "source": [
        "plt.figure(figsize=(12, 9))\n",
        "nx.draw(g, pos=node_positions, edge_color=edge_colors, node_size=10, node_color='black')\n",
        "plt.title('Grafo que representa los senderos de Sleeping Giant', size=15)\n",
        "plt.xlabel('Posición X')\n",
        "plt.ylabel('Posición Y')\n",
        "plt.show()"
      ],
      "execution_count": null,
      "outputs": []
    },
    {
      "cell_type": "markdown",
      "metadata": {
        "id": "71FP-Xi1LZeR"
      },
      "source": [
        "Se puede visualizar el grafo de diferentes formas dependiendo de los parámetros que le pasemos al método `draw`."
      ]
    },
    {
      "cell_type": "code",
      "metadata": {
        "id": "9KLHmIryLZ10"
      },
      "source": [
        "plt.figure(figsize=(12, 9))\n",
        "nx.draw(g, pos=node_positions, edge_color=edge_colors, node_size=30, node_color='black', with_labels = True)\n",
        "plt.title('Grafo que representa los senderos de Sleeping Giant', size=15)\n",
        "plt.axis('on')\n",
        "plt.xlabel('Posición X')\n",
        "plt.ylabel('Posición Y')"
      ],
      "execution_count": null,
      "outputs": []
    },
    {
      "cell_type": "markdown",
      "metadata": {
        "id": "B-W7YWWFglEw"
      },
      "source": [
        "# Tarea\n",
        "\n",
        "Resolver los siguientes ejercicios para el próximo laboratorio:\n",
        "\n",
        "* Dibujar el grafo con aristas grises y un alfa=0.4. Dibujar de color rojo todos los nodos que tengan un número de senderos de entrada o salida impar.\n",
        "*  Dibujar el grafo con aristas grises y un alfa=0.4. Dibujar de color azul todos los nodos que tengan un número de senderos de entrada o salida par.\n",
        "* Dibujar el grafo con aristas grises y un alfa=0.4. Dibujar de color rojo todos los nodos que tengan un número de senderos de entrada o salida impar y de color azul los que tengan nodos par.\n",
        "* Pintar los nodos de grado menor con colores claros y los nodo de grado mayor con tonos fuertes (use una paleta de gradientes).\n",
        "* Encontrar el camino más corto entre rc_end_north y rs_end_south. Dibujar la ruta en el grafo. Donde los arcos rojos representen la ruta mínima y los grises las rutas que no son visitadas. Los arcos que son visitados colocar la distacia. \n",
        "* ¿Existen nodos que forman comunidades en el grafo?. Si es así, dibujar un grafo donde se muestren las comunidades. Arcos o rutas en rojo representan las comunidades conectadas y las grises nodos no conectados.\n",
        "* Pinte de color rojo, y aumente su tamaño a 40, dle nodo más importante y el resto de color negro."
      ]
    },
    {
      "cell_type": "code",
      "metadata": {
        "id": "D10sxMXIiQ7k"
      },
      "source": [
        "# Código de ejemplo\n",
        "plt.figure(figsize=(12, 10))\n",
        "nx.draw_networkx_nodes(g, node_positions, node_size=20, node_color=\"red\")\n",
        "# Visualizar los 10 primeros nodos\n",
        "lista_nodos_verdes = [ n[0] for n in list(g.nodes(data=True))[0:10]]\n",
        "nx.draw_networkx_nodes(g, node_positions, nodelist=lista_nodos_verdes, node_size=60, node_color=\"green\")\n",
        "\n",
        "nx.draw_networkx_edges(g, node_positions, alpha=0.4)\n",
        "plt.axis('on')\n",
        "#plt.grid('on')\n",
        "plt.title('Cambiando el color de los arcos del grafo')\n",
        "plt.show()"
      ],
      "execution_count": null,
      "outputs": []
    },
    {
      "cell_type": "code",
      "source": [
        "# Grado de un nodo\n",
        "for nodo in g.degree():\n",
        "  print(nodo)"
      ],
      "metadata": {
        "id": "zZ6mhvpNGU1p"
      },
      "execution_count": null,
      "outputs": []
    }
  ]
}