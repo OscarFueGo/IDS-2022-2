{
  "nbformat": 4,
  "nbformat_minor": 0,
  "metadata": {
    "colab": {
      "provenance": [],
      "collapsed_sections": [
        "TJffr5_Jwqvd"
      ]
    },
    "kernelspec": {
      "name": "python3",
      "display_name": "Python 3"
    }
  },
  "cells": [
    {
      "cell_type": "markdown",
      "source": [
        "![60x60-ucn-negro.png](data:image/png;base64,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)\n",
        "\n",
        "**Universidad Católica del Norte** \n",
        "\n",
        "Escuela de Ingeniería \n",
        "\n",
        "Coquimbo\n",
        "\n",
        "---\n",
        "\n",
        "**Profesor**: Dr. Juan Bekios Calfa\n",
        "\n",
        "**Curso**: Introducción a *Data Science* (2022-2)\n",
        "\n",
        "---"
      ],
      "metadata": {
        "id": "PvIQVchDTsCI"
      }
    },
    {
      "cell_type": "markdown",
      "metadata": {
        "id": "mN2ZOcJ-_6nP"
      },
      "source": [
        "# Laborotario 01: Scraping y visualización\n",
        "\n",
        "**Problema:** Leer archivos archivos de diferentes fuentes para extraer los datos que son necesarios para realizar un análisis visual y estadístico. \n",
        "\n",
        "**Objetivos de aprendizaje:**\n",
        "  * Obtener una introducción a las estructuras de datos de `DataFrame` y `Series` de la biblioteca de *Pandas*\n",
        "  * Acceder y manipular datos dentro de `DataFrame` y `Series`\n",
        "  * Importar datos CSV a un `DataFrame` de *Pandas*\n",
        "  * Reindexar un `DataFrame` para obtener datos aleatorios\n",
        "  * Leer datos desde una página Web\n",
        "\n",
        "## 1. Introducción rápida a Pandas\n",
        "\n",
        " [*pandas*](http://pandas.pydata.org/) es una API de análisis de datos en columnas, ideal para manipular y analizar datos de entrada. Además, muchos marcos de trabajo de **aprendizaje automático** admiten las estructuras de datos *pandas* como entradas.\n",
        " \n",
        "Si bien una introducción detallada a la API de *pandas* abarcaría muchas páginas, los conceptos principales que presentamos a continuación son simples. Para obtener una referencia más completa, el [sitio de documentación de *pandas*](http://pandas.pydata.org/pandas-docs/stable/index.html) incluye una documentación exhaustiva y numerosos instructivos.\n",
        "\n",
        "### 1.1 Conceptos básicos\n",
        "\n",
        "La siguiente línea importa la API de *pandas* e imprime la versión de la API:"
      ]
    },
    {
      "cell_type": "code",
      "metadata": {
        "id": "aSRYu62xUi3g"
      },
      "source": [
        "from __future__ import print_function\n",
        "\n",
        "import pandas as pd\n",
        "pd.__version__"
      ],
      "execution_count": null,
      "outputs": []
    },
    {
      "cell_type": "markdown",
      "metadata": {
        "id": "s_JOISVgmn9v"
      },
      "source": [
        " Las estructuras de datos principales en *pandas* están implementadas en dos clases:\n",
        "\n",
        "  * **`DataFrame`**, que puedes imaginar como una tabla de datos relacional, con filas y columnas con nombre.\n",
        "  * **`Series`**, que es una columna simple. Una clase `DataFrame` incluye una o más `Series` y un nombre para cada `Series`.\n",
        "\n",
        "El marco de datos es una abstracción que se usa normalmente para manipular datos. Hay implementaciones similares en [Spark](https://spark.apache.org/) y [R](https://www.r-project.org/about)."
      ]
    },
    {
      "cell_type": "markdown",
      "metadata": {
        "id": "fjnAk1xcU0yc"
      },
      "source": [
        "#### 1.1.1 Series y DataFrames\n",
        "\n",
        "Una manera de crear una `Series` es construir un objeto de `Series`. Por ejemplo:"
      ]
    },
    {
      "cell_type": "code",
      "metadata": {
        "id": "DFZ42Uq7UFDj"
      },
      "source": [
        "pd.Series(['San Francisco', 'San Jose', 'Sacramento'])"
      ],
      "execution_count": null,
      "outputs": []
    },
    {
      "cell_type": "markdown",
      "metadata": {
        "id": "U5ouUp1cU6pC"
      },
      "source": [
        " Los objetos de `DataFrame` pueden crearse al enviar un `dict` que asigne nombres de columnas de `string` a sus `Series` correspondientes. Si las `Series` no coinciden con la longitud, los valores que falten se completan con valores [NA/NaN](http://pandas.pydata.org/pandas-docs/stable/missing_data.html) especiales. Ejemplo:"
      ]
    },
    {
      "cell_type": "code",
      "metadata": {
        "id": "avgr6GfiUh8t"
      },
      "source": [
        "city_names = pd.Series(['San Francisco', 'San Jose', 'Sacramento'])\n",
        "population = pd.Series([852469, 1015785, 485199])\n",
        "\n",
        "# Componer el dataframe a partir de las dos series\n",
        "pd.DataFrame({ 'Nombre de la ciudad': city_names, 'Población': population })"
      ],
      "execution_count": null,
      "outputs": []
    },
    {
      "cell_type": "markdown",
      "metadata": {
        "id": "oa5wfZT7VHJl"
      },
      "source": [
        " Pero por lo general, se carga un archivo completo en un `DataFrame`. El siguiente ejemplo carga un archivo con datos de viviendas de California. Ejecuta la siguiente celda para cargar los datos y crear definiciones de funciones:"
      ]
    },
    {
      "cell_type": "code",
      "metadata": {
        "id": "av6RYOraVG1V"
      },
      "source": [
        "california_housing_dataframe = pd.read_csv(\"https://download.mlcc.google.com/mledu-datasets/california_housing_train.csv\", sep=\",\")"
      ],
      "execution_count": null,
      "outputs": []
    },
    {
      "cell_type": "markdown",
      "source": [
        "#### 1.1.2 Mostrar los primeros elementos del `DataFrame` \n",
        "\n",
        "Generalmente la cantidad de filas es relativamente grande en cada carga. Sin embargo, si uno quiere inspeccionar las primeras filas o últimas filas contamos con los métodos `head(int)` y `tail(int)`."
      ],
      "metadata": {
        "id": "AIXVCm7XVIQM"
      }
    },
    {
      "cell_type": "code",
      "source": [
        "# Muestra las primeras cinco filas del dataframe\n",
        "california_housing_dataframe.head()"
      ],
      "metadata": {
        "id": "Alxu2EukWLFB"
      },
      "execution_count": null,
      "outputs": []
    },
    {
      "cell_type": "code",
      "source": [
        "# Muestra las primeras 10 filas del dataframe\n",
        "california_housing_dataframe.head(10)"
      ],
      "metadata": {
        "id": "trSbHxQLWjZX"
      },
      "execution_count": null,
      "outputs": []
    },
    {
      "cell_type": "code",
      "source": [
        "# Muestra las últimas cinco filas del dataframe\n",
        "california_housing_dataframe.tail()"
      ],
      "metadata": {
        "id": "ZUq1eWqjWk3-"
      },
      "execution_count": null,
      "outputs": []
    },
    {
      "cell_type": "code",
      "source": [
        "# Muestra las últimas 12 filas del dataframe\n",
        "california_housing_dataframe.tail(12)"
      ],
      "metadata": {
        "id": "A8gwyh1uWlC9"
      },
      "execution_count": null,
      "outputs": []
    },
    {
      "cell_type": "markdown",
      "source": [
        "#### 1.1.3 Obtener estadística general de los datos"
      ],
      "metadata": {
        "id": "T2FkJw59XfMo"
      }
    },
    {
      "cell_type": "code",
      "metadata": {
        "id": "ccKs9Ad335t9"
      },
      "source": [
        "# Resumen de los datos\n",
        "california_housing_dataframe.describe()"
      ],
      "execution_count": null,
      "outputs": []
    },
    {
      "cell_type": "code",
      "source": [
        "# Obtener el número de columnas y filas del dataframe\n",
        "#california_housing_dataframe.shape\n",
        "row, col = california_housing_dataframe.shape\n",
        "\n",
        "print(f'Número de filas: {row}')\n",
        "print(f'Número de columnas: {col}')"
      ],
      "metadata": {
        "id": "0w5d5up1Xyvt"
      },
      "execution_count": null,
      "outputs": []
    },
    {
      "cell_type": "code",
      "source": [
        "# Obtener información de tipos de datos de cada columna\n",
        "\n",
        "california_housing_dataframe.info()"
      ],
      "metadata": {
        "id": "WDeR98RFXyeP"
      },
      "execution_count": null,
      "outputs": []
    },
    {
      "cell_type": "markdown",
      "metadata": {
        "id": "w9-Es5Y6laGd"
      },
      "source": [
        "#### 1.1.4 Visualización simple con `DataFrame`\n",
        "\n",
        "Otra función util de *pandas* es la generación de gráficos. Por ejemplo, `DataFrame.hist` permite estudiar rápidamente la distribución de los valores en una columna:"
      ]
    },
    {
      "cell_type": "code",
      "metadata": {
        "id": "nqndFVXVlbPN"
      },
      "source": [
        "import matplotlib.pyplot as plt\n",
        "\n",
        "california_housing_dataframe.hist('median_income', bins=60)\n",
        "plt.title('Ingreso medio en USD')\n",
        "plt.xlabel('Dólares')\n",
        "plt.ylabel('Frecuencia')\n",
        "plt.grid(False)"
      ],
      "execution_count": null,
      "outputs": []
    },
    {
      "cell_type": "markdown",
      "metadata": {
        "id": "XtYZ7114n3b-"
      },
      "source": [
        " ## Acceso a los datos\n",
        "\n",
        "Puedes acceder a los datos de `DataFrame` mediante las operaciones convencionales de dict/list de Python:"
      ]
    },
    {
      "cell_type": "code",
      "metadata": {
        "id": "_TFm7-looBFF"
      },
      "source": [
        "city_names = pd.Series(['San Francisco', 'San Jose', 'Sacramento'])\n",
        "population = pd.Series([852469, 1015785, 485199])\n",
        "\n",
        "cities = pd.DataFrame({ 'Nombre Ciudad': city_names, 'Población': population })\n",
        "print(type(cities['Nombre Ciudad']))"
      ],
      "execution_count": null,
      "outputs": []
    },
    {
      "cell_type": "code",
      "source": [
        "# Listar las cinco primeras filas del dataframe creado\\\n",
        "\n",
        "cities.head()"
      ],
      "metadata": {
        "id": "7wFA_KCNa6Ox"
      },
      "execution_count": null,
      "outputs": []
    },
    {
      "cell_type": "code",
      "source": [
        "# Obtener el Serie de un DataFrame\n",
        "\n",
        "names = cities['Nombre Ciudad']\n",
        "print(f'Lista de nombres de las ciudades:\\n {names}')"
      ],
      "metadata": {
        "id": "gHcjYr78a5zj"
      },
      "execution_count": null,
      "outputs": []
    },
    {
      "cell_type": "code",
      "source": [
        "# Iterar sobre una Serie\n",
        "\n",
        "for i in cities['Nombre Ciudad']:\n",
        "  print(f'Nombre de la ciudad: {i}')"
      ],
      "metadata": {
        "id": "vgQrQXTYa5fG"
      },
      "execution_count": null,
      "outputs": []
    },
    {
      "cell_type": "code",
      "source": [
        "# Iterar sobre una Serie aregando un número\n",
        "\n",
        "for num, nombre in enumerate(cities['Nombre Ciudad']):\n",
        "  print(f'Nombre de la ciudad de la fila {num}: {nombre}')"
      ],
      "metadata": {
        "id": "4vWDhbiSbgJd"
      },
      "execution_count": null,
      "outputs": []
    },
    {
      "cell_type": "code",
      "source": [
        "# Iterar sobre una Serie aregando un número (formateado)\n",
        "\n",
        "for num, nombre in enumerate(cities['Nombre Ciudad']):\n",
        "  print(f'Nombre de la ciudad {num:03d}: {nombre}')"
      ],
      "metadata": {
        "id": "svZdTvlEbum7"
      },
      "execution_count": null,
      "outputs": []
    },
    {
      "cell_type": "code",
      "metadata": {
        "id": "V5L6xacLoxyv"
      },
      "source": [
        "# Obtener un dato específico de un DataFrame\n",
        "\n",
        "print('Tipo de dato: ')\n",
        "print(type(cities['Nombre Ciudad'][1]), end='\\n\\n')\n",
        "\n",
        "print(f'Nombre de cuidad dos: {cities[\"Nombre Ciudad\"][1]}')"
      ],
      "execution_count": null,
      "outputs": []
    },
    {
      "cell_type": "code",
      "metadata": {
        "id": "gcYX1tBPugZl"
      },
      "source": [
        "# Seleccionar un rango de filas\n",
        "\n",
        "print(type(cities[0:2]))\n",
        "cities[0:2]"
      ],
      "execution_count": null,
      "outputs": []
    },
    {
      "cell_type": "code",
      "source": [
        "cities['Nombre Ciudad'][1:3]"
      ],
      "metadata": {
        "id": "P1U_5WQ7IicS"
      },
      "execution_count": null,
      "outputs": []
    },
    {
      "cell_type": "markdown",
      "metadata": {
        "id": "65g1ZdGVjXsQ"
      },
      "source": [
        " Además, *pandas* proporciona una API muy enriquecida para una [indexación y selección](http://pandas.pydata.org/pandas-docs/stable/indexing.html) avanzadas, que es un tema demasiado amplio como para cubrirlo aquí."
      ]
    },
    {
      "cell_type": "markdown",
      "metadata": {
        "id": "RM1iaD-ka3Y1"
      },
      "source": [
        " ## Manipulación de datos\n",
        "\n",
        "Puedes aplicar operaciones aritméticas básicas de Python a las `Series`. Por ejemplo:"
      ]
    },
    {
      "cell_type": "code",
      "metadata": {
        "id": "XWmyCFJ5bOv-"
      },
      "source": [
        "population / 1000."
      ],
      "execution_count": null,
      "outputs": []
    },
    {
      "cell_type": "markdown",
      "metadata": {
        "id": "TQzIVnbnmWGM"
      },
      "source": [
        " [NumPy](http://www.numpy.org/) es un kit de herramientas popular para el cálculo científico. Las `Series` de *pandas* pueden usarse como argumentos para la mayoría de las funciones NumPy:"
      ]
    },
    {
      "cell_type": "code",
      "metadata": {
        "id": "ko6pLK6JmkYP"
      },
      "source": [
        "import numpy as np\n",
        "\n",
        "np.log(population)"
      ],
      "execution_count": null,
      "outputs": []
    },
    {
      "cell_type": "markdown",
      "metadata": {
        "id": "xmxFuQmurr6d"
      },
      "source": [
        " Para obtener información sobre transformaciones más complejas de una sola columna, puedes usar `Series.apply`. Al igual que la función [función map](https://docs.python.org/2/library/functions.html#map) de Python, `Series.apply` acepta como argumento una función [función lambda](https://docs.python.org/2/tutorial/controlflow.html#lambda-expressions), que se aplica a cada valor.\n",
        "\n",
        "El siguiente ejemplo crea una nueva `Series` que indica si la `population` es superior a un millón:"
      ]
    },
    {
      "cell_type": "code",
      "metadata": {
        "id": "Fc1DvPAbstjI"
      },
      "source": [
        "population.apply(lambda val: val > 1000000)"
      ],
      "execution_count": null,
      "outputs": []
    },
    {
      "cell_type": "markdown",
      "metadata": {
        "id": "ZeYYLoV9b9fB"
      },
      "source": [
        " \n",
        "Modificar `DataFrames` también es simple. Por ejemplo, el siguiente código agrega dos `Series` a un `DataFrame` existente:"
      ]
    },
    {
      "cell_type": "code",
      "metadata": {
        "id": "0gCEX99Hb8LR"
      },
      "source": [
        "cities['Area cuadradas [miles]'] = pd.Series([46.87, 176.53, 97.92])\n",
        "cities['Densidad de la población'] = cities['Población'] / cities['Area cuadradas [miles]']\n",
        "cities['Población grande'] = population.apply(lambda val: val > 1000000)\n",
        "\n",
        "cities"
      ],
      "execution_count": null,
      "outputs": []
    },
    {
      "cell_type": "markdown",
      "metadata": {
        "id": "6qh63m-ayb-c"
      },
      "source": [
        " ## Ejercicio n.º 1\n",
        "\n",
        "Para modificar la tabla de `cities`, agregar una nueva columna booleana que sea Verdadera si y solo si *ambos* de los siguientes valores son Verdaderos:\n",
        "\n",
        "  * La ciudad le debe su nombre a un santo.\n",
        "  * La ciudad tiene un área superior a 50 millas cuadradas.\n",
        "\n",
        "**Nota:** Las `Series` booleanas se combinan en función de los bits, en lugar de los operadores booleanos tradicionales. Por ejemplo, cuando utilices *logical and*, usa `&` en lugar de `and`.\n",
        "\n",
        "**Hint:** \"San\" en español representa \"santo\"."
      ]
    },
    {
      "cell_type": "code",
      "metadata": {
        "id": "zCOn8ftSyddH"
      },
      "source": [
        "# Your code here\n",
        "cities['Grande y tiene nombre de un santo'] = (cities['Area cuadradas [miles]'] > 50) | cities['Nombre Ciudad'].apply(lambda name: name.startswith('San'))\n",
        "cities"
      ],
      "execution_count": null,
      "outputs": []
    },
    {
      "cell_type": "markdown",
      "metadata": {
        "id": "YHIWvc9Ms-Ll"
      },
      "source": [
        " ### Solución\n",
        "\n",
        "Haz clic a continuación para obtener una solución."
      ]
    },
    {
      "cell_type": "code",
      "metadata": {
        "id": "T5OlrqtdtCIb"
      },
      "source": [
        "#@title\n",
        "cities['Grande y tiene nombre de un santo'] = (cities['Area cuadradas [miles]'] > 50) & cities['Nombre Ciudad'].apply(lambda name: name.startswith('San'))\n",
        "cities"
      ],
      "execution_count": null,
      "outputs": []
    },
    {
      "cell_type": "markdown",
      "metadata": {
        "id": "f-xAOJeMiXFB"
      },
      "source": [
        " ## Índices\n",
        "Los objetos `Series` y `DataFrame` también definen una propiedad de `index` que asigna un valor de identificador a cada elemento `Series` o fila `DataFrame`.\n",
        "\n",
        "De forma predeterminada, en la construcción, *pandas* asigna valores de índice que reflejan la solicitud de los datos de origen. Una vez creados, los valores de índice son estables, es decir, no cambian cuando cambia el orden de los datos."
      ]
    },
    {
      "cell_type": "code",
      "metadata": {
        "id": "2684gsWNinq9"
      },
      "source": [
        "city_names.index"
      ],
      "execution_count": null,
      "outputs": []
    },
    {
      "cell_type": "code",
      "metadata": {
        "id": "F_qPe2TBjfWd"
      },
      "source": [
        "cities.index"
      ],
      "execution_count": null,
      "outputs": []
    },
    {
      "cell_type": "code",
      "metadata": {
        "id": "V4YgqN2AGnX4"
      },
      "source": [
        "cities.head()"
      ],
      "execution_count": null,
      "outputs": []
    },
    {
      "cell_type": "markdown",
      "metadata": {
        "id": "hp2oWY9Slo_h"
      },
      "source": [
        " Llama `DataFrame.reindex` para cambiar el orden de las filas de forma manual. Por ejemplo, la siguiente acción tiene el mismo efecto que ordenar los valores por nombre de ciudad:"
      ]
    },
    {
      "cell_type": "code",
      "metadata": {
        "id": "sN0zUzSAj-U1"
      },
      "source": [
        "cities.reindex([2, 0, 1])"
      ],
      "execution_count": null,
      "outputs": []
    },
    {
      "cell_type": "markdown",
      "metadata": {
        "id": "-GQFz8NZuS06"
      },
      "source": [
        " La reindexación es una excelente manera de seleccionar un `DataFrame` de forma aleatoria. En el ejemplo que se muestra a continuación, tomamos el índice, que es del tipo matriz, y lo enviamos a la función `random.permutation` de NumPy, que selecciona sus valores de forma aleatoria. Utilizar la `reindexación` con esta matriz aleatoria provoca que las filas de `DataFrame` se seleccionen de forma aleatoria de la misma manera.\n",
        "¡Prueba ejecutar la siguiente celda varias veces!"
      ]
    },
    {
      "cell_type": "code",
      "source": [
        "cities.index\n",
        "\n",
        "for i in cities.index:\n",
        "  print(i)"
      ],
      "metadata": {
        "id": "p5R4IP7esFG0"
      },
      "execution_count": null,
      "outputs": []
    },
    {
      "cell_type": "code",
      "source": [
        "# Permuto los índices\n",
        "print(np.random.permutation(cities.index))"
      ],
      "metadata": {
        "id": "SIxMNParsEzm"
      },
      "execution_count": null,
      "outputs": []
    },
    {
      "cell_type": "code",
      "metadata": {
        "id": "mF8GC0k8uYhz"
      },
      "source": [
        "cities.reindex(np.random.permutation(cities.index))"
      ],
      "execution_count": null,
      "outputs": []
    },
    {
      "cell_type": "markdown",
      "metadata": {
        "id": "fSso35fQmGKb"
      },
      "source": [
        " Para obtener más información, consulta [Documentación de índice](http://pandas.pydata.org/pandas-docs/stable/indexing.html#index-objects)."
      ]
    },
    {
      "cell_type": "markdown",
      "metadata": {
        "id": "8UngIdVhz8C0"
      },
      "source": [
        " ## Ejercicio n.º 2\n",
        "\n",
        "El método de `reindex` permite los valores de índice que no están en los valores de índice originales de `DataFrame`. Pruébalo y observa lo que sucede si usas esos valores. ¿Por qué supones que los permite?"
      ]
    },
    {
      "cell_type": "code",
      "metadata": {
        "id": "PN55GrDX0jzO"
      },
      "source": [
        "# Your code here"
      ],
      "execution_count": null,
      "outputs": []
    },
    {
      "cell_type": "markdown",
      "metadata": {
        "id": "TJffr5_Jwqvd"
      },
      "source": [
        " ### Solución\n",
        "\n",
        "Haz clic a continuación para conocer la solución."
      ]
    },
    {
      "cell_type": "markdown",
      "metadata": {
        "id": "8oSvi2QWwuDH"
      },
      "source": [
        " Si la matriz de la entrada `reindex` incluye valores que no se encuentran en los valores de índice originales `DataFrame`, `reindex` agregará nuevas filas para esos índices \"faltantes\" y completará todas las columnas correspondientes con los valores `NaN`:"
      ]
    },
    {
      "cell_type": "code",
      "metadata": {
        "id": "yBdkucKCwy4x"
      },
      "source": [
        "#@title\n",
        "cities.reindex([0, 4, 5, 2])"
      ],
      "execution_count": null,
      "outputs": []
    },
    {
      "cell_type": "markdown",
      "metadata": {
        "id": "2l82PhPbwz7g"
      },
      "source": [
        " Este comportamiento es util, ya que por lo general los índices son strings extraídos de los datos actuales (consulta la [*pandas* reindex\n",
        "documentation](http://pandas.pydata.org/pandas-docs/stable/generated/pandas.DataFrame.reindex.html) para obtener un ejemplo en el que los valores de índice son nombres de navegadores).\n",
        "\n",
        "En este caso, permitir los índices \"faltantes\" facilita la reindexación mediante una lista externa, dado que no tienes que preocuparte por sanear directamente las entradas."
      ]
    },
    {
      "cell_type": "markdown",
      "metadata": {
        "id": "vAiW10-MXNdS"
      },
      "source": [
        "## 2. Obtener datos desde una página HTML\n",
        "\n",
        "1. Obtener los datos de una página web (http://www.sismologia.cl), extraer la información relevante y convertirla a un DataFrame.\n",
        "2. Crear una columna llamada 'magnitud_int' y guardar los valores enteros como tipo de dato float.\n",
        "3. Imprimir la magnitud máxima.\n",
        "4. Imprimir la magnitud mínima.\n",
        "5. Imprimir la magnitud promedio.\n",
        "6. Imprimir toda la fila del dataFrame donde se encuentra la magnitud máxima.\n",
        "7. Repetir el ejercicio 3, 4, 5 y 6 solo considerando las magnitudes 'Ml'\n",
        "8. Separar la fecha de la hora.\n",
        "\n",
        "Muestre los resultados formateando la salida."
      ]
    },
    {
      "cell_type": "code",
      "metadata": {
        "id": "30BsYgB--eUh"
      },
      "source": [
        "import requests\n",
        "from bs4 import BeautifulSoup \n",
        "import pandas as pd\n",
        "import numpy as np\n",
        "\n",
        "response = requests.get('http://www.sismologia.cl')\n",
        "\n",
        "#print(response.content)\n",
        "\n",
        "soup = BeautifulSoup(response.content)\n",
        "table = soup.find(\"table\")\n",
        "\n",
        "print(table)"
      ],
      "execution_count": null,
      "outputs": []
    },
    {
      "cell_type": "code",
      "metadata": {
        "id": "GqoPNRFEJIhR"
      },
      "source": [
        "#print(table)\n",
        "#print(table.find('tr'))\n",
        "#print(table.find_all('tr'))\n",
        "\n",
        "for s in table.find_all('tr'):\n",
        "  print('Fila -->', s)"
      ],
      "execution_count": null,
      "outputs": []
    },
    {
      "cell_type": "code",
      "metadata": {
        "id": "Z_1xW2dLJIVa"
      },
      "source": [
        "# Obtengo la primera linea y obtengo los títulos de cada columna\n",
        "cabecera_tabla = [th.get_text() for th in table.find(\"tr\").find_all(\"th\")]\n",
        "print(cabecera_tabla)"
      ],
      "execution_count": null,
      "outputs": []
    },
    {
      "cell_type": "code",
      "metadata": {
        "id": "rHYmAMXpJHb3"
      },
      "source": [
        "# Obtengo los datos fila por fila\n",
        "datasets = []\n",
        "for row in table.find_all(\"tr\")[1:]:\n",
        "    dataset = [td.get_text() for td in row.find_all(\"td\")]\n",
        "    datasets.append(dataset)\n",
        "\n",
        "for row in datasets:\n",
        "  print(row)"
      ],
      "execution_count": null,
      "outputs": []
    },
    {
      "cell_type": "code",
      "metadata": {
        "id": "35hH_KqMJZZl"
      },
      "source": [
        "# Convierto dataFrame (Pandas)\n",
        "dic = {'Fecha Local':[], 'Lugar':[], 'Magnitud':[]}\n",
        "for row in table.find_all(\"tr\")[1:]:\n",
        "    data_row = row.find_all('td')\n",
        "    dic['Fecha Local'].append(data_row[0].get_text())\n",
        "    dic['Lugar'].append(data_row[1].get_text())\n",
        "    dic['Magnitud'].append(data_row[2].get_text())\n",
        "print(dic)"
      ],
      "execution_count": null,
      "outputs": []
    },
    {
      "cell_type": "code",
      "metadata": {
        "id": "5HU6_EipJaVx"
      },
      "source": [
        "# Crear dataFrame de un diccionario\n",
        "df = pd.DataFrame(dic)\n",
        "\n",
        "df.head(10)"
      ],
      "execution_count": null,
      "outputs": []
    },
    {
      "cell_type": "code",
      "metadata": {
        "id": "QT0dXr4N78u0"
      },
      "source": [
        "print(df['Magnitud'])"
      ],
      "execution_count": null,
      "outputs": []
    },
    {
      "cell_type": "code",
      "metadata": {
        "id": "CMgy35IeJZ9C"
      },
      "source": [
        "# Operacion sobre columnas\n",
        "df['Magnitud_entera'] = df['Magnitud'].apply(lambda magnitud: float(magnitud[:3]))\n",
        "df['Fecha'] = df['Fecha Local'].map(lambda f: f[:11])\n",
        "df.head()\n"
      ],
      "execution_count": null,
      "outputs": []
    },
    {
      "cell_type": "code",
      "metadata": {
        "id": "apD7VaUyJluU"
      },
      "source": [
        "print('Magnitud máxima', np.max(df['Magnitud_entera']))\n",
        "print('Magnitud mínimo', np.min(df['Magnitud_entera']))\n",
        "print('Magnitud promedio', np.mean(df['Magnitud_entera']))\n",
        "\n",
        "# Quiero recuperar la fila con magnitud más alta\n",
        "#print(df['Magnitud_entera'] == 3.0)\n",
        "#print(df[df['Magnitud_entera'] == 3.0])\n",
        "\n",
        "print(df[df['Magnitud_entera'] == np.max(df['Magnitud_entera'])])\n",
        "\n",
        "#print(df[df['Magnitud_entera'] == np.min(df['Magnitud_entera'])])"
      ],
      "execution_count": null,
      "outputs": []
    },
    {
      "cell_type": "markdown",
      "metadata": {
        "id": "Yt_RiGg-YJaV"
      },
      "source": [
        "## Obtener datos de un servidor implementado con API Rest.\n",
        "\n",
        "1. Obtener el valor del dólar del todo el año 2019 utilizando la API Rest: https://mindicador.cl/."
      ]
    },
    {
      "cell_type": "code",
      "metadata": {
        "id": "J3a4pg6yYKc6"
      },
      "source": [
        "import requests\n",
        "import json\n",
        "\n",
        "response = requests.get('https://mindicador.cl/api/dolar/2022')\n",
        "\n",
        "print(response.content, end='\\n'*3)\n",
        "\n",
        "data = json.loads(response.content)\n",
        "\n",
        "# Acceso a JSON como si fuera un diccionario\n",
        "print(data['nombre'])\n",
        "\n",
        "# Valor del dolar de todo el 2019 a la fecha\n",
        "#for valor_dolar in data['serie']:\n",
        "#  print(valor_dolar['valor'])\n",
        "  \n",
        "# DataFrame\n",
        "df = pd.DataFrame(data['serie'])\n",
        "df.head()"
      ],
      "execution_count": null,
      "outputs": []
    },
    {
      "cell_type": "markdown",
      "metadata": {
        "id": "ftzSLnfeYkUL"
      },
      "source": [
        "2. Graficar la variación del dólar para todo el año 2019."
      ]
    },
    {
      "cell_type": "code",
      "metadata": {
        "id": "mw65gGA8YxQO"
      },
      "source": [
        "import matplotlib.pyplot as plt\n",
        "\n",
        "plt.figure(figsize=(15,4))\n",
        "plt.plot(df['valor'])\n",
        "plt.xlabel('Día del año')\n",
        "plt.ylabel('Valor dolar (USD) en pesos chilenos (CLP)')\n",
        "plt.grid(False)"
      ],
      "execution_count": null,
      "outputs": []
    },
    {
      "cell_type": "markdown",
      "metadata": {
        "id": "Xhr4qcs27_qy"
      },
      "source": [
        "3. Convertir un string en formato ISO-8601  a un objeto date\n"
      ]
    },
    {
      "cell_type": "code",
      "metadata": {
        "id": "WZM3eSB58AZZ"
      },
      "source": [
        "import dateutil.parser\n",
        "yourdate = dateutil.parser.parse(df['fecha'][0])\n",
        "\n",
        "print('Imprimir el mes', yourdate.month)\n"
      ],
      "execution_count": null,
      "outputs": []
    }
  ]
}