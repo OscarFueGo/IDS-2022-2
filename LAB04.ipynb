{
  "nbformat": 4,
  "nbformat_minor": 0,
  "metadata": {
    "colab": {
      "provenance": [],
      "mount_file_id": "1NZSodpFYQGC6zJVPpd3-HP7SeJUimrtg",
      "authorship_tag": "ABX9TyOYxH2QjbT1adlx6QxrZ8JY",
      "include_colab_link": true
    },
    "kernelspec": {
      "name": "python3",
      "display_name": "Python 3"
    },
    "language_info": {
      "name": "python"
    }
  },
  "cells": [
    {
      "cell_type": "markdown",
      "metadata": {
        "id": "view-in-github",
        "colab_type": "text"
      },
      "source": [
        "<a href=\"https://colab.research.google.com/github/OscarFueGo/IDS-2022-2/blob/main/LAB04.ipynb\" target=\"_parent\"><img src=\"https://colab.research.google.com/assets/colab-badge.svg\" alt=\"Open In Colab\"/></a>"
      ]
    },
    {
      "cell_type": "code",
      "execution_count": null,
      "metadata": {
        "id": "ZrKqyU5WIIEM"
      },
      "outputs": [],
      "source": []
    }
  ]
}