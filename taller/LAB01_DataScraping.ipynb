{
  "nbformat": 4,
  "nbformat_minor": 0,
  "metadata": {
    "colab": {
      "provenance": [],
      "collapsed_sections": [
        "TJffr5_Jwqvd"
      ]
    },
    "kernelspec": {
      "name": "python3",
      "display_name": "Python 3"
    }
  },
  "cells": [
    {
      "cell_type": "markdown",
      "source": [
        "![60x60-ucn-negro.png](data:image/png;base64,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)\n",
        "\n",
        "**Universidad Católica del Norte** \n",
        "\n",
        "Escuela de Ingeniería \n",
        "\n",
        "Coquimbo\n",
        "\n",
        "---\n",
        "\n",
        "**Profesor**: Dr. Juan Bekios Calfa\n",
        "\n",
        "**Curso**: Introducción a *Data Science* (2022-2)\n",
        "\n",
        "---\n",
        "\n",
        "**GRUPO** (Indicar grupo):\n",
        "\n",
        "* Nombre intregrante uno\n",
        "\n",
        "* (Opcional) Nombre intregrante dos\n",
        "\n",
        "---"
      ],
      "metadata": {
        "id": "PvIQVchDTsCI"
      }
    },
    {
      "cell_type": "markdown",
      "metadata": {
        "id": "mN2ZOcJ-_6nP"
      },
      "source": [
        "# Taller 01: Scraping y visualización\n",
        "\n",
        "##Descripción\n",
        "\n",
        " Se desea extraer información de la página de meteorología de la Universidad Católica del Norte (http://www.meteorologia.ucn.cl/). La página está compuesta por varios gráficos y se desea obtener los datos de Temperatura en °C, Humedad en % y Presión Lugar en hPa.\n",
        "\n",
        "##Se pide \n",
        "\n",
        "1. Capturar los datos de la página Web utilizando el objeto request.\n",
        "2. Obtener los datos de Temperatura en °C, Humedad en % y Presión Lugar en hPa.\n",
        "Mostrar una tabla (dataframe) con los datos obtenidos desde la página donde cada columna correspodería a: Fecha, Temperatura en °C, Humedad en % y Presión Lugar en hPa.\n",
        "3. Para cada una de las series mostrar sus valores en el tiempo. (line plot)\n",
        "4. Para cada una de las series mostrar su histograma para ver cuáles son los rangos de valores que se repiten con más frecuencia.\n",
        "5. Divida la serie de Temperatura en °C en dos grupos de datos (divida la serie por la mitad):\n",
        "\n",
        "  5.1. Realice un gráfico de box and whisker (cajas y bigotes) para la los datos tomados temprano (primera mitad de datos)y los datos tomados tarde (segunda mitad de datos).\n",
        "\n",
        "  5.2. Calcule la temperatura máxima, mínima, media y mediana para los datos inferiores y datos superiores.\n",
        "6. Conclusiones. A partir de los datos y gráficos que conclusiones puede obtener sobre la temperatura, humedad y presión.\n",
        "\n",
        "## Entrega\n",
        "\n",
        "Se debe entregar este colab con los datos solicitados en cada uno de puntos."
      ]
    },
    {
      "cell_type": "markdown",
      "source": [
        "# 0. Cargar librerías\n",
        "\n",
        "En la celda de código indique todas las librerías que utilizará en el proyecto. Comente brevemente cual es la funcionalidad de cada librería e imprima la versión de cada una."
      ],
      "metadata": {
        "id": "KsfKNsGMQDVM"
      }
    },
    {
      "cell_type": "code",
      "metadata": {
        "id": "aSRYu62xUi3g"
      },
      "source": [
        "from __future__ import print_function\n",
        "\n",
        "# Pandas: Permite la manipulación y tratamiento de datos por medio de \n",
        "# estructuras de datos flexibles (Series y DataFrame)\n",
        "import pandas as pd\n",
        "print(f'Versión de pandas: {pd.__version__}')\n",
        "\n",
        "# --- Agregue todas las que use en el proyecto (Agregue o elimine librerías del listado) ---\n",
        "import requests \n",
        "from bs4 import BeautifulSoup \n",
        "import pandas as pd\n",
        "import numpy as np\n",
        "import re"
      ],
      "execution_count": null,
      "outputs": []
    },
    {
      "cell_type": "markdown",
      "metadata": {
        "id": "s_JOISVgmn9v"
      },
      "source": [
        "# 1. Capturar los datos de la página Web de la estación metereológica \n",
        "\n",
        "Los datos serán extraídos de la página de la estación de metereología de la  Universidad Católica del Norte sede Antofagasta.\n",
        "\n",
        "## 1.1 Obtengo los datos de cada una de las variables con web scraping y expresiones regulares"
      ]
    },
    {
      "cell_type": "code",
      "metadata": {
        "id": "30BsYgB--eUh"
      },
      "source": [
        "response = requests.get('http://www.meteorologia.ucn.cl')\n",
        "\n",
        "soup = BeautifulSoup(response.content)\n",
        "scripts = soup.find_all('script')\n",
        "\n",
        "# Capturo el cuarto bloque de script de la página donde están los datos\n",
        "datos = scripts[4].get_text()\n",
        "\n",
        "# Obtengo los datos de temperatura\n",
        "buscar_datos_temperatura = re.compile(r'temperatura\\s=\\s\\[\\[.*\\]\\];')  # Busca todo el string de temperatura\n",
        "temperatura = buscar_datos_temperatura.search(datos)\n",
        "\n",
        "if temperatura is not None:\n",
        "  print(temperatura.group())\n",
        "\n",
        "# --- Código aquí ---"
      ],
      "execution_count": null,
      "outputs": []
    },
    {
      "cell_type": "markdown",
      "source": [
        "# 2. Convertir las series de tiempo a un dataframe\n",
        "\n",
        "Convertir las tres series de tiempo a un dataframe e imprimir las primeras cinco filas."
      ],
      "metadata": {
        "id": "DpVL6czKVgLq"
      }
    },
    {
      "cell_type": "code",
      "source": [
        "# --- Código aquí ---"
      ],
      "metadata": {
        "id": "6Ljr787Bfq-C"
      },
      "execution_count": null,
      "outputs": []
    },
    {
      "cell_type": "markdown",
      "source": [
        "# 3. Para cada una de las series mostrar sus valores en el tiempo. (line plot)"
      ],
      "metadata": {
        "id": "oNVLcXyif85Q"
      }
    },
    {
      "cell_type": "code",
      "source": [
        "# --- Código aquí ---"
      ],
      "metadata": {
        "id": "5aRx4lwogD-I"
      },
      "execution_count": null,
      "outputs": []
    },
    {
      "cell_type": "markdown",
      "source": [
        "# 4. Para cada una de las series mostrar su histograma"
      ],
      "metadata": {
        "id": "NUK4uC-DgIOR"
      }
    },
    {
      "cell_type": "code",
      "source": [
        "# --- Código aquí ---"
      ],
      "metadata": {
        "id": "AVJDzqWzgImk"
      },
      "execution_count": null,
      "outputs": []
    },
    {
      "cell_type": "markdown",
      "source": [
        "# 5. Dividir la serie de Temperatura en °C en dos grupos de datos (divida la serie por la mitad)\n",
        "\n",
        "Los datos de la serie de Temperatura se deben dividir en dos grupos iguales. Un grupo contiene los datos que son tomados más temprano y el otro grupo contendría los datos tomados más tarde."
      ],
      "metadata": {
        "id": "USAgDSqhgPb7"
      }
    },
    {
      "cell_type": "code",
      "source": [
        "# --- Código aquí ---"
      ],
      "metadata": {
        "id": "gNlVOIqTgOZP"
      },
      "execution_count": null,
      "outputs": []
    },
    {
      "cell_type": "markdown",
      "source": [
        "## 5.1 Graficar la densidad de los datos para el grupo de datos de la mañana y el grupo de la tarde\n",
        "\n",
        "Se pide hacer un gráfico de cajas y bigotes (*boxes and whiskers*), para las dos categorías de datos."
      ],
      "metadata": {
        "id": "j8ytC5ZAgrS7"
      }
    },
    {
      "cell_type": "code",
      "source": [
        "# --- Código aquí ---"
      ],
      "metadata": {
        "id": "PNEoPiWSgtWO"
      },
      "execution_count": null,
      "outputs": []
    },
    {
      "cell_type": "markdown",
      "source": [
        "## 5.2 Calcular la temperatura máxima, mínima, media y mediana para los datos inferiores y datos superiores."
      ],
      "metadata": {
        "id": "ZwqAqPNLgsaq"
      }
    },
    {
      "cell_type": "code",
      "source": [
        "# Cálculo de estadísticos grupo 01\n",
        "\n",
        "# --- Código aquí ---"
      ],
      "metadata": {
        "id": "zgyxLmOugu1N"
      },
      "execution_count": null,
      "outputs": []
    },
    {
      "cell_type": "code",
      "source": [
        "# Cálculo de estadísticos grupo 02\n",
        "\n",
        "# --- Código aquí ---"
      ],
      "metadata": {
        "id": "TgiSLK9-je5J"
      },
      "execution_count": null,
      "outputs": []
    },
    {
      "cell_type": "markdown",
      "source": [
        "### Agregar los resultados a la siguiente tabla\n",
        "\n",
        "\n",
        "> Gráfico de temperatura (Comparación de grupos)\n",
        "\n",
        "\n",
        "\n",
        "|  **Grupo de Variables**  | **Valor Máximo** | **Valor mínimo** | **Media** | **Mediana** |\n",
        "|:--------------|:----------------:|:----------------:|:---------:|:-----------:|\n",
        "| Grupo 01 (Temprano) |                  |                  |           |             |\n",
        "| Grupo 02 (Tarde)  |                  |                  |           |             |\n"
      ],
      "metadata": {
        "id": "th3XXHEwhanW"
      }
    },
    {
      "cell_type": "markdown",
      "source": [
        "# 6. Conclusiones\n",
        "\n",
        "*Escriba brevemente algunas conclusiones que puede sacar de los datos y su visualización.* `(Borrar este texto)`"
      ],
      "metadata": {
        "id": "U88HKfnejqZK"
      }
    }
  ]
}
