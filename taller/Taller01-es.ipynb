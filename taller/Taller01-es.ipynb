{
  "nbformat": 4,
  "nbformat_minor": 0,
  "metadata": {
    "colab": {
      "provenance": [],
      "collapsed_sections": [
        "TJffr5_Jwqvd"
      ]
    },
    "kernelspec": {
      "name": "python3",
      "display_name": "Python 3"
    }
  },
  "cells": [
    {
      "cell_type": "markdown",
      "source": [
        "![60x60-ucn-negro.png](data:image/png;base64,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)\n",
        "\n",
        "**Universidad Católica del Norte** \n",
        "\n",
        "Escuela de Ingeniería \n",
        "\n",
        "Coquimbo\n",
        "\n",
        "---\n",
        "\n",
        "**Profesor**: Dr. Juan Bekios Calfa\n",
        "\n",
        "**Curso**: Introducción a *Data Science* (2022-2)\n",
        "\n",
        "---\n",
        "\n",
        "**GRUPO** (Indicar grupo):\n",
        "\n",
        "* Nombre intregrante uno\n",
        "\n",
        "* (Opcional) Nombre intregrante dos\n",
        "\n",
        "---"
      ],
      "metadata": {
        "id": "PvIQVchDTsCI"
      }
    },
    {
      "cell_type": "markdown",
      "metadata": {
        "id": "mN2ZOcJ-_6nP"
      },
      "source": [
        "# Taller 01: Scraping y visualización\n",
        "\n",
        "##Descripción\n",
        "\n",
        " Se desea extraer información de la página de meteorología de la Universidad Católica del Norte (http://www.meteorologia.ucn.cl/). La página está compuesta por varios gráficos y se desea obtener los datos de Temperatura en °C, Humedad en % y Presión Lugar en hPa.\n",
        "\n",
        "##Se pide \n",
        "\n",
        "1. Capturar los datos de la página Web utilizando el objeto request.\n",
        "2. Obtener los datos de Temperatura en °C, Humedad en % y Presión Lugar en hPa.\n",
        "Mostrar una tabla (dataframe) con los datos obtenidos desde la página donde cada columna correspodería a: Fecha, Temperatura en °C, Humedad en % y Presión Lugar en hPa.\n",
        "3. Para cada una de las series mostrar sus valores en el tiempo. (line plot)\n",
        "4. Para cada una de las series mostrar su histograma para ver cuáles son los rangos de valores que se repiten con más frecuencia.\n",
        "5. Divida la serie de Temperatura en °C en dos grupos de datos (divida la serie por la mitad):\n",
        "\n",
        "  5.1. Realice un gráfico de box and whisker (cajas y bigotes) para la los datos tomados temprano (primera mitad de datos)y los datos tomados tarde (segunda mitad de datos).\n",
        "\n",
        "  5.2. Calcule la temperatura máxima, mínima, media y mediana para los datos inferiores y datos superiores.\n",
        "6. Conclusiones. A partir de los datos y gráficos que conclusiones puede obtener sobre la temperatura, humedad y presión.\n",
        "\n",
        "## Entrega\n",
        "\n",
        "Se debe entregar este colab con los datos solicitados en cada uno de puntos."
      ]
    },
    {
      "cell_type": "markdown",
      "source": [
        "# 0. Cargar librerías\n",
        "\n",
        "En la celda de código indique todas las librerías que utilizará en el proyecto. Comente brevemente cual es la funcionalidad de cada librería e imprima la versión de cada una."
      ],
      "metadata": {
        "id": "KsfKNsGMQDVM"
      }
    },
    {
      "cell_type": "code",
      "metadata": {
        "id": "aSRYu62xUi3g",
        "colab": {
          "base_uri": "https://localhost:8080/"
        },
        "outputId": "4da6d627-fc4f-4287-eec3-a2fc00875d94"
      },
      "source": [
        "from __future__ import print_function\n",
        "\n",
        "# Pandas: Permite la manipulación y tratamiento de datos por medio de \n",
        "# estructuras de datos flexibles (Series y DataFrame)\n",
        "import pandas as pd\n",
        "print(f'Versión de pandas: {pd.__version__}')\n",
        "\n",
        "# --- Agregue todas las que use en el proyecto (Agregue o elimine librerías del listado) ---\n",
        "import requests \n",
        "from bs4 import BeautifulSoup \n",
        "import pandas as pd\n",
        "import numpy as np\n",
        "import re"
      ],
      "execution_count": 24,
      "outputs": [
        {
          "output_type": "stream",
          "name": "stdout",
          "text": [
            "Versión de pandas: 1.3.5\n"
          ]
        }
      ]
    },
    {
      "cell_type": "markdown",
      "metadata": {
        "id": "s_JOISVgmn9v"
      },
      "source": [
        "# 1. Capturar los datos de la página Web de la estación metereológica \n",
        "\n",
        "Los datos serán extraídos de la página de la estación de metereología de la  Universidad Católica del Norte sede Antofagasta.\n",
        "\n",
        "## 1.1 Obtengo los datos de cada una de las variables con web scraping y expresiones regulares"
      ]
    },
    {
      "cell_type": "code",
      "metadata": {
        "id": "30BsYgB--eUh",
        "colab": {
          "base_uri": "https://localhost:8080/"
        },
        "outputId": "cffdcc5e-e736-4011-b3b0-183a0b852508"
      },
      "source": [
        "response = requests.get('http://www.meteorologia.ucn.cl')\n",
        "\n",
        "soup = BeautifulSoup(response.content)\n",
        "scripts = soup.find_all('script')\n",
        "\n",
        "# Capturo el cuarto bloque de script de la página donde están los datos\n",
        "datos = scripts[4].get_text()\n",
        "\n",
        "# Obtengo los datos de temperatura\n",
        "buscar_datos_temperatura = re.compile(r'temperatura\\s=\\s\\[\\[.*\\]\\];')  # Busca todo el string de temperatura\n",
        "temperatura = buscar_datos_temperatura.search(datos)\n",
        "\n",
        "if temperatura is not None:\n",
        "  print(temperatura.group())\n",
        "\n",
        "# --- Código aquí ---"
      ],
      "execution_count": 56,
      "outputs": [
        {
          "output_type": "stream",
          "name": "stdout",
          "text": [
            "temperatura = [[\"20220916193000\",14.4],[\"20220916192900\",14.5],[\"20220916192800\",14.5],[\"20220916192700\",14.4],[\"20220916192600\",14.4],[\"20220916192500\",14.4],[\"20220916192400\",14.4],[\"20220916192300\",14.4],[\"20220916192200\",14.4],[\"20220916192100\",14.5],[\"20220916192000\",14.4],[\"20220916191900\",14.4],[\"20220916191800\",14.4],[\"20220916191700\",14.4],[\"20220916191600\",14.4],[\"20220916191500\",14.5],[\"20220916191400\",14.6],[\"20220916191300\",14.7],[\"20220916191200\",14.6],[\"20220916191100\",14.6],[\"20220916191000\",14.6],[\"20220916190900\",14.6],[\"20220916190800\",14.6],[\"20220916190700\",14.6],[\"20220916190600\",14.6],[\"20220916190500\",14.6],[\"20220916190400\",14.6],[\"20220916190300\",14.6],[\"20220916190200\",14.5],[\"20220916190100\",14.4],[\"20220916190000\",14.5],[\"20220916185900\",14.4],[\"20220916185800\",14.4],[\"20220916185700\",14.6],[\"20220916185600\",14.7],[\"20220916185500\",14.6],[\"20220916185400\",14.5],[\"20220916185300\",14.5],[\"20220916185200\",14.4],[\"20220916185100\",14.3],[\"20220916185000\",14.4],[\"20220916184900\",14.4],[\"20220916184800\",14.3],[\"20220916184700\",14.3],[\"20220916184600\",14.3],[\"20220916184500\",14.4],[\"20220916184400\",14.6],[\"20220916184300\",14.7],[\"20220916184200\",14.6],[\"20220916184100\",14.5],[\"20220916184000\",14.5],[\"20220916183900\",14.4],[\"20220916183800\",14.4],[\"20220916183700\",14.6],[\"20220916183600\",14.6],[\"20220916183500\",14.7],[\"20220916183400\",14.7],[\"20220916183300\",14.5],[\"20220916183200\",14.4],[\"20220916183100\",14.3],[\"20220916183000\",14.4],[\"20220916182900\",14.5],[\"20220916182800\",14.6],[\"20220916182700\",14.7],[\"20220916182600\",14.7],[\"20220916182500\",14.8],[\"20220916182400\",14.8],[\"20220916182300\",14.7],[\"20220916182200\",14.7],[\"20220916182100\",14.8],[\"20220916182000\",14.9],[\"20220916181900\",14.9],[\"20220916181800\",14.9],[\"20220916181700\",14.7],[\"20220916181600\",14.7],[\"20220916181500\",14.9],[\"20220916181400\",15.1],[\"20220916181300\",15.1],[\"20220916181200\",14.8],[\"20220916181100\",14.9],[\"20220916181000\",14.8],[\"20220916180900\",14.8],[\"20220916180800\",14.6],[\"20220916180700\",14.6],[\"20220916180600\",14.6],[\"20220916180500\",14.5],[\"20220916180400\",14.6],[\"20220916180300\",14.7],[\"20220916180200\",15.1],[\"20220916180100\",15.2],[\"20220916180000\",15.1],[\"20220916175900\",15.2],[\"20220916175800\",15.1],[\"20220916175700\",15.2],[\"20220916175600\",15.2],[\"20220916175500\",15.1],[\"20220916175400\",14.9],[\"20220916175300\",14.8],[\"20220916175200\",15],[\"20220916175100\",15.3],[\"20220916175000\",15.2],[\"20220916174900\",15.1],[\"20220916174800\",15.2],[\"20220916174700\",15.2],[\"20220916174600\",15.2],[\"20220916174500\",15.3],[\"20220916174400\",15.5],[\"20220916174300\",15.6],[\"20220916174200\",15.5],[\"20220916174100\",15.5],[\"20220916174000\",15.9],[\"20220916173900\",16.2],[\"20220916173800\",16.3],[\"20220916173700\",16.2],[\"20220916173600\",16],[\"20220916173500\",16.3],[\"20220916173400\",16.5],[\"20220916173300\",16.3],[\"20220916173200\",16.2],[\"20220916173100\",16.1],[\"20220916173000\",16],[\"20220916172900\",15.7],[\"20220916172800\",15.7],[\"20220916172700\",15.7],[\"20220916172600\",15.4],[\"20220916172500\",15.5],[\"20220916172400\",15.6],[\"20220916172300\",16],[\"20220916172200\",16.2],[\"20220916172100\",16.1],[\"20220916172000\",16],[\"20220916171900\",16.1],[\"20220916171800\",16],[\"20220916171700\",15.8],[\"20220916171600\",15.8],[\"20220916171500\",15.1],[\"20220916171400\",15],[\"20220916171300\",15.1],[\"20220916171200\",15.2],[\"20220916171100\",15.4],[\"20220916171000\",15.7],[\"20220916170900\",15.9],[\"20220916170800\",16.1],[\"20220916170700\",16],[\"20220916170600\",15.9],[\"20220916170500\",15.7],[\"20220916170400\",15.6],[\"20220916170300\",15.7],[\"20220916170200\",15.7],[\"20220916170100\",15.9],[\"20220916170000\",16],[\"20220916165900\",16],[\"20220916165800\",15.9],[\"20220916165700\",15.8],[\"20220916165600\",15.9],[\"20220916165500\",15.7],[\"20220916165400\",15.5],[\"20220916165300\",15.3],[\"20220916165200\",15.3],[\"20220916165100\",15.6],[\"20220916165000\",15.4],[\"20220916164900\",15.4],[\"20220916164800\",15.5],[\"20220916164700\",15.9],[\"20220916164600\",16],[\"20220916164500\",15.5],[\"20220916164400\",15.4],[\"20220916164300\",15.3],[\"20220916164200\",15.5],[\"20220916164100\",15.4],[\"20220916164000\",15.4],[\"20220916163900\",15.3],[\"20220916163800\",15.6],[\"20220916163700\",16.1],[\"20220916163600\",15.9],[\"20220916163500\",15.9],[\"20220916163400\",16],[\"20220916163300\",15.8],[\"20220916163200\",15.6],[\"20220916163100\",15.4],[\"20220916163000\",15.3],[\"20220916162900\",15.3],[\"20220916162800\",15.5],[\"20220916162700\",15.4],[\"20220916162600\",15.6],[\"20220916162500\",15.4],[\"20220916162400\",15.2],[\"20220916162300\",15.1],[\"20220916162200\",15.2],[\"20220916162100\",15.4],[\"20220916162000\",15.3],[\"20220916161900\",15.2],[\"20220916161800\",15.3],[\"20220916161700\",15.5],[\"20220916161600\",15.6],[\"20220916161500\",15.7],[\"20220916161400\",16],[\"20220916161300\",15.8],[\"20220916161200\",15.7],[\"20220916161100\",15.5],[\"20220916161000\",15.6],[\"20220916160900\",15.7],[\"20220916160800\",15.3],[\"20220916160700\",15.2],[\"20220916160600\",15.2],[\"20220916160500\",15.1],[\"20220916160400\",15.2],[\"20220916160300\",15.2],[\"20220916160200\",15.3],[\"20220916160100\",15.6],[\"20220916160000\",15.8],[\"20220916155900\",16.4],[\"20220916155800\",16.2],[\"20220916155700\",16.1],[\"20220916155600\",15.8],[\"20220916155500\",15.3],[\"20220916155400\",15.4],[\"20220916155300\",15.5],[\"20220916155200\",15.6],[\"20220916155100\",15.5],[\"20220916155000\",15.5],[\"20220916154900\",15.4],[\"20220916154800\",15.2],[\"20220916154700\",15.2],[\"20220916154600\",15.6],[\"20220916154500\",15.9],[\"20220916154400\",15.5],[\"20220916154300\",15.2],[\"20220916154200\",15.2],[\"20220916154100\",15.3],[\"20220916154000\",15.6],[\"20220916153900\",15.4],[\"20220916153800\",15.2],[\"20220916153700\",15.4],[\"20220916153600\",15.2],[\"20220916153500\",15.1],[\"20220916153400\",15.3],[\"20220916153300\",15.6],[\"20220916153200\",15.5],[\"20220916153100\",15.4],[\"20220916153000\",15.3],[\"20220916152900\",15.3],[\"20220916152800\",15.3],[\"20220916152700\",15.6],[\"20220916152600\",15.7],[\"20220916152500\",15.6],[\"20220916152400\",15.6],[\"20220916152300\",15.4],[\"20220916152200\",15.5],[\"20220916152100\",15.5],[\"20220916152000\",15.5],[\"20220916151900\",15.5],[\"20220916151800\",15.3],[\"20220916151700\",15.2],[\"20220916151600\",15.1],[\"20220916151500\",15.1],[\"20220916151400\",15.2],[\"20220916151300\",15.3],[\"20220916151200\",15.1],[\"20220916151100\",15.2],[\"20220916151000\",15.3],[\"20220916150900\",15.5],[\"20220916150800\",15.7],[\"20220916150700\",15.7],[\"20220916150600\",15.8],[\"20220916150500\",15.8],[\"20220916150400\",15.6],[\"20220916150300\",15.2],[\"20220916150200\",15.1],[\"20220916150100\",15.2],[\"20220916150000\",15.4],[\"20220916145900\",15.5],[\"20220916145800\",15.3],[\"20220916145700\",15.5],[\"20220916145600\",15.4],[\"20220916145500\",15.3],[\"20220916145400\",15.2],[\"20220916145300\",15.4],[\"20220916145200\",15.3],[\"20220916145100\",15.1],[\"20220916145000\",15],[\"20220916144900\",14.9],[\"20220916144800\",14.9],[\"20220916144700\",15],[\"20220916144600\",15.1],[\"20220916144500\",15.1],[\"20220916144400\",15.2],[\"20220916144300\",15.3],[\"20220916144200\",15.2],[\"20220916144100\",15.1],[\"20220916144000\",15.1],[\"20220916143900\",15],[\"20220916143800\",15],[\"20220916143700\",15],[\"20220916143600\",15.1],[\"20220916143500\",15.2],[\"20220916143400\",15.3],[\"20220916143300\",15.6],[\"20220916143200\",15.4],[\"20220916143100\",15.2],[\"20220916143000\",15.1],[\"20220916142900\",15.3],[\"20220916142800\",15.3],[\"20220916142700\",15.4],[\"20220916142600\",15.7],[\"20220916142500\",15.6],[\"20220916142400\",15.4],[\"20220916142300\",15.2],[\"20220916142200\",15.1],[\"20220916142100\",14.9],[\"20220916142000\",15.1],[\"20220916141900\",15.3],[\"20220916141800\",15.5],[\"20220916141700\",15.2],[\"20220916141600\",15.1],[\"20220916141500\",15.1],[\"20220916141400\",15],[\"20220916141300\",15.3],[\"20220916141200\",15.4],[\"20220916141100\",15.6],[\"20220916141000\",15.5],[\"20220916140900\",15.2],[\"20220916140800\",15.3],[\"20220916140700\",15.3],[\"20220916140600\",15.1],[\"20220916140500\",15],[\"20220916140400\",15.1],[\"20220916140300\",15.2],[\"20220916140200\",15.4],[\"20220916140100\",15.3],[\"20220916140000\",15.2],[\"20220916135900\",15.1],[\"20220916135800\",15.2],[\"20220916135700\",15.2],[\"20220916135600\",15.4],[\"20220916135500\",15.5],[\"20220916135400\",15],[\"20220916135300\",15],[\"20220916135200\",15.2],[\"20220916135100\",15],[\"20220916135000\",15],[\"20220916134900\",15.1],[\"20220916134800\",15],[\"20220916134700\",14.7],[\"20220916134600\",14.8],[\"20220916134500\",14.7],[\"20220916134400\",14.8],[\"20220916134300\",14.8],[\"20220916134200\",15],[\"20220916134100\",15.2],[\"20220916134000\",15.1],[\"20220916133900\",14.8],[\"20220916133800\",14.8],[\"20220916133700\",14.8],[\"20220916133600\",14.9],[\"20220916133500\",14.9],[\"20220916133400\",15],[\"20220916133300\",15.1],[\"20220916133200\",14.8],[\"20220916133100\",14.6],[\"20220916133000\",14.6],[\"20220916132900\",14.7],[\"20220916132800\",14.8],[\"20220916132700\",14.9],[\"20220916132600\",15.4],[\"20220916132500\",15.3],[\"20220916132400\",15],[\"20220916132300\",15.2],[\"20220916132200\",15.7],[\"20220916132100\",15.6],[\"20220916132000\",15.3],[\"20220916131900\",15.6],[\"20220916131800\",15.5],[\"20220916131700\",15.6],[\"20220916131600\",15.5],[\"20220916131500\",15.4],[\"20220916131400\",15.1],[\"20220916131300\",15.1],[\"20220916131200\",15.4],[\"20220916131100\",15.2],[\"20220916131000\",14.7],[\"20220916130900\",14.6],[\"20220916130800\",14.7],[\"20220916130700\",14.9],[\"20220916130600\",15],[\"20220916130500\",15.3],[\"20220916130400\",15.1],[\"20220916130300\",15.2],[\"20220916130200\",15.1],[\"20220916130100\",14.7],[\"20220916130000\",14.5],[\"20220916125900\",14.6],[\"20220916125800\",14.6],[\"20220916125700\",14.6],[\"20220916125600\",14.6],[\"20220916125500\",14.7],[\"20220916125400\",14.7],[\"20220916125300\",14.7],[\"20220916125200\",14.9],[\"20220916125100\",15.2],[\"20220916125000\",15.2],[\"20220916124900\",14.8],[\"20220916124800\",14.6],[\"20220916124700\",14.8],[\"20220916124600\",14.8],[\"20220916124500\",14.8],[\"20220916124400\",15],[\"20220916124300\",15.2],[\"20220916124200\",15.2],[\"20220916124100\",15.1],[\"20220916124000\",15],[\"20220916123900\",14.8],[\"20220916123800\",15.2],[\"20220916123700\",15.1],[\"20220916123600\",14.8],[\"20220916123500\",14.8],[\"20220916123400\",14.9],[\"20220916123300\",15.1],[\"20220916123200\",15.2],[\"20220916123100\",15.2],[\"20220916123000\",15.3],[\"20220916122900\",15.4],[\"20220916122800\",15.3],[\"20220916122700\",15.1],[\"20220916122600\",14.6],[\"20220916122500\",14.5],[\"20220916122400\",14.5],[\"20220916122300\",14.6],[\"20220916122200\",14.9],[\"20220916122100\",15.1],[\"20220916122000\",14.7],[\"20220916121900\",14.5],[\"20220916121800\",14.7],[\"20220916121700\",14.6],[\"20220916121600\",14.4],[\"20220916121500\",14.6],[\"20220916121400\",14.8],[\"20220916121300\",14.9],[\"20220916121200\",14.8],[\"20220916121100\",14.6],[\"20220916121000\",14.4],[\"20220916120900\",14.7],[\"20220916120800\",14.5],[\"20220916120700\",14.5],[\"20220916120600\",14.2],[\"20220916120500\",14.2],[\"20220916120400\",14.3],[\"20220916120300\",14.5],[\"20220916120200\",14.6],[\"20220916120100\",14.6],[\"20220916120000\",14.4],[\"20220916115900\",14.4],[\"20220916115800\",14.3],[\"20220916115700\",14.3],[\"20220916115600\",14.3],[\"20220916115500\",14.5],[\"20220916115400\",14.5],[\"20220916115300\",14.8],[\"20220916115200\",14.9],[\"20220916115100\",14.9],[\"20220916115000\",14.7],[\"20220916114900\",14.7],[\"20220916114800\",14.5],[\"20220916114700\",14.6],[\"20220916114600\",14.9],[\"20220916114500\",15.2],[\"20220916114400\",15.1],[\"20220916114300\",15.1],[\"20220916114200\",15.1],[\"20220916114100\",15.2],[\"20220916114000\",15.2],[\"20220916113900\",15],[\"20220916113800\",15],[\"20220916113700\",14.9],[\"20220916113600\",14.8],[\"20220916113500\",14.5],[\"20220916113400\",14.5],[\"20220916113300\",14.8],[\"20220916113200\",14.8],[\"20220916113100\",14.7],[\"20220916113000\",14.3],[\"20220916112900\",14.3],[\"20220916112800\",14.4],[\"20220916112700\",14.4],[\"20220916112600\",14.5],[\"20220916112500\",14.5],[\"20220916112400\",14.7],[\"20220916112300\",14.7],[\"20220916112200\",14.4],[\"20220916112100\",14.5],[\"20220916112000\",14.6],[\"20220916111900\",14.7],[\"20220916111800\",14.7],[\"20220916111700\",14.7],[\"20220916111600\",14.9],[\"20220916111500\",15.2],[\"20220916111400\",15],[\"20220916111300\",15],[\"20220916111200\",15],[\"20220916111100\",14.8],[\"20220916111000\",15],[\"20220916110900\",14.8],[\"20220916110800\",14.9],[\"20220916110700\",14.8],[\"20220916110600\",14.6],[\"20220916110500\",14.6],[\"20220916110400\",14.6],[\"20220916110300\",14.4],[\"20220916110200\",14.3],[\"20220916110100\",14.4],[\"20220916110000\",14.5],[\"20220916105900\",14.3],[\"20220916105800\",14.1],[\"20220916105700\",14.2],[\"20220916105600\",14.4],[\"20220916105500\",14.6],[\"20220916105400\",14.6],[\"20220916105300\",14.5],[\"20220916105200\",14.4],[\"20220916105100\",14.4],[\"20220916105000\",14.5],[\"20220916104900\",14.5],[\"20220916104800\",14.6],[\"20220916104700\",14.7],[\"20220916104600\",14.6],[\"20220916104500\",14.6],[\"20220916104400\",14.7],[\"20220916104300\",14.7],[\"20220916104200\",14.6],[\"20220916104100\",14.4],[\"20220916104000\",14.2],[\"20220916103900\",14.2],[\"20220916103800\",14.3],[\"20220916103700\",14.6],[\"20220916103600\",15],[\"20220916103500\",15],[\"20220916103400\",14.7],[\"20220916103300\",14.6],[\"20220916103200\",14.6],[\"20220916103100\",14.7],[\"20220916103000\",14.9],[\"20220916102900\",15.3],[\"20220916102800\",15.1],[\"20220916102700\",15],[\"20220916102600\",14.9],[\"20220916102500\",14.9],[\"20220916102400\",14.9],[\"20220916102300\",14.7],[\"20220916102200\",14.7],[\"20220916102100\",14.6],[\"20220916102000\",14.6],[\"20220916101900\",14.6],[\"20220916101800\",14.3],[\"20220916101700\",14.2],[\"20220916101600\",14.2],[\"20220916101500\",14.1],[\"20220916101400\",14.2],[\"20220916101300\",14.2],[\"20220916101200\",14.3],[\"20220916101100\",14.5],[\"20220916101000\",14.4],[\"20220916100900\",14.2],[\"20220916100800\",14.2],[\"20220916100700\",14.1],[\"20220916100600\",13.9],[\"20220916100500\",13.8],[\"20220916100400\",13.7],[\"20220916100300\",13.6],[\"20220916100200\",13.6],[\"20220916100100\",13.4],[\"20220916100000\",13.4],[\"20220916095900\",13.4],[\"20220916095800\",13.4],[\"20220916095700\",13.4],[\"20220916095600\",13.3],[\"20220916095500\",13.3],[\"20220916095400\",13.3],[\"20220916095300\",13.2],[\"20220916095200\",13.1],[\"20220916095100\",13.1],[\"20220916095000\",13.1],[\"20220916094900\",13.1],[\"20220916094800\",13.1],[\"20220916094700\",13],[\"20220916094600\",12.9],[\"20220916094500\",12.9],[\"20220916094400\",12.9],[\"20220916094300\",12.8],[\"20220916094200\",12.8],[\"20220916094100\",12.7],[\"20220916094000\",12.7],[\"20220916093900\",12.7],[\"20220916093800\",12.6],[\"20220916093700\",12.7],[\"20220916093600\",12.6],[\"20220916093500\",12.5],[\"20220916093400\",12.4],[\"20220916093300\",12.3],[\"20220916093200\",12.3],[\"20220916093100\",12.3],[\"20220916093000\",12.3],[\"20220916092900\",12.2],[\"20220916092800\",12.1],[\"20220916092700\",12],[\"20220916092600\",11.9],[\"20220916092500\",12],[\"20220916092400\",11.9],[\"20220916092300\",11.9],[\"20220916092200\",11.9],[\"20220916092100\",12],[\"20220916092000\",11.9],[\"20220916091900\",11.9],[\"20220916091800\",11.7],[\"20220916091700\",11.7],[\"20220916091600\",11.7],[\"20220916091500\",11.7],[\"20220916091400\",11.7],[\"20220916091300\",11.6],[\"20220916091200\",11.6],[\"20220916091100\",11.6],[\"20220916091000\",11.6],[\"20220916090900\",11.6],[\"20220916090800\",11.6],[\"20220916090700\",11.6],[\"20220916090600\",11.6],[\"20220916090500\",11.6],[\"20220916090400\",11.6],[\"20220916090300\",11.6],[\"20220916090200\",11.5],[\"20220916090100\",11.4],[\"20220916090000\",11.4],[\"20220916085900\",11.4],[\"20220916085800\",11.5],[\"20220916085700\",11.4],[\"20220916085600\",11.4],[\"20220916085500\",11.4],[\"20220916085400\",11.3],[\"20220916085300\",11.3],[\"20220916085200\",11.2],[\"20220916085100\",11.2],[\"20220916085000\",11.1],[\"20220916084900\",11.2],[\"20220916084800\",11.2],[\"20220916084700\",11.2],[\"20220916084600\",11.2],[\"20220916084500\",11.2],[\"20220916084400\",11.2],[\"20220916084300\",11.1],[\"20220916084200\",11.1],[\"20220916084100\",11.1],[\"20220916084000\",11.1],[\"20220916083900\",11],[\"20220916083800\",10.9],[\"20220916083700\",11],[\"20220916083600\",10.9],[\"20220916083500\",10.9],[\"20220916083400\",10.9],[\"20220916083300\",10.9],[\"20220916083200\",10.9],[\"20220916083100\",10.9],[\"20220916083000\",10.9],[\"20220916082900\",10.9],[\"20220916082800\",10.9],[\"20220916082700\",10.9],[\"20220916082600\",10.8],[\"20220916082500\",10.9],[\"20220916082400\",10.8],[\"20220916082300\",10.8],[\"20220916082200\",10.8],[\"20220916082100\",10.8],[\"20220916082000\",10.8],[\"20220916081900\",10.7],[\"20220916081800\",10.8],[\"20220916081700\",10.7],[\"20220916081600\",10.7],[\"20220916081500\",10.8],[\"20220916081400\",10.7],[\"20220916081300\",10.8],[\"20220916081200\",10.8],[\"20220916081100\",10.7],[\"20220916081000\",10.7],[\"20220916080900\",10.8],[\"20220916080800\",10.8],[\"20220916080700\",10.7],[\"20220916080600\",10.7],[\"20220916080500\",10.7],[\"20220916080400\",10.8],[\"20220916080300\",10.8],[\"20220916080200\",10.8],[\"20220916080100\",10.8],[\"20220916080000\",10.8],[\"20220916075900\",10.8],[\"20220916075800\",10.8],[\"20220916075700\",10.8],[\"20220916075600\",10.8],[\"20220916075500\",10.8],[\"20220916075400\",10.8],[\"20220916075300\",10.8],[\"20220916075200\",10.8],[\"20220916075100\",10.8],[\"20220916075000\",10.8],[\"20220916074900\",10.8],[\"20220916074800\",10.7],[\"20220916074700\",10.8],[\"20220916074600\",10.8],[\"20220916074500\",10.8],[\"20220916074400\",10.8],[\"20220916074300\",10.8],[\"20220916074200\",10.7],[\"20220916074100\",10.8]];\n"
          ]
        }
      ]
    },
    {
      "cell_type": "markdown",
      "source": [
        "# 2. Convertir las series de tiempo a un dataframe\n",
        "\n",
        "Convertir las tres series de tiempo a un dataframe e imprimir las primeras cinco filas."
      ],
      "metadata": {
        "id": "DpVL6czKVgLq"
      }
    },
    {
      "cell_type": "code",
      "source": [
        "# --- Código aquí ---"
      ],
      "metadata": {
        "id": "6Ljr787Bfq-C"
      },
      "execution_count": null,
      "outputs": []
    },
    {
      "cell_type": "markdown",
      "source": [
        "# 3. Para cada una de las series mostrar sus valores en el tiempo. (line plot)"
      ],
      "metadata": {
        "id": "oNVLcXyif85Q"
      }
    },
    {
      "cell_type": "code",
      "source": [
        "# --- Código aquí ---"
      ],
      "metadata": {
        "id": "5aRx4lwogD-I"
      },
      "execution_count": null,
      "outputs": []
    },
    {
      "cell_type": "markdown",
      "source": [
        "# 4. Para cada una de las series mostrar su histograma"
      ],
      "metadata": {
        "id": "NUK4uC-DgIOR"
      }
    },
    {
      "cell_type": "code",
      "source": [
        "# --- Código aquí ---"
      ],
      "metadata": {
        "id": "AVJDzqWzgImk"
      },
      "execution_count": null,
      "outputs": []
    },
    {
      "cell_type": "markdown",
      "source": [
        "# 5. Dividir la serie de Temperatura en °C en dos grupos de datos (divida la serie por la mitad)\n",
        "\n",
        "Los datos de la serie de Temperatura se deben dividir en dos grupos iguales. Un grupo contiene los datos que son tomados más temprano y el otro grupo contendría los datos tomados más tarde."
      ],
      "metadata": {
        "id": "USAgDSqhgPb7"
      }
    },
    {
      "cell_type": "code",
      "source": [
        "# --- Código aquí ---"
      ],
      "metadata": {
        "id": "gNlVOIqTgOZP"
      },
      "execution_count": null,
      "outputs": []
    },
    {
      "cell_type": "markdown",
      "source": [
        "## 5.1 Graficar la densidad de los datos para el grupo de datos de la mañana y el grupo de la tarde\n",
        "\n",
        "Se pide hacer un gráfico de cajas y bigotes (*boxes and whiskers*), para las dos categorías de datos."
      ],
      "metadata": {
        "id": "j8ytC5ZAgrS7"
      }
    },
    {
      "cell_type": "code",
      "source": [
        "# --- Código aquí ---"
      ],
      "metadata": {
        "id": "PNEoPiWSgtWO"
      },
      "execution_count": null,
      "outputs": []
    },
    {
      "cell_type": "markdown",
      "source": [
        "## 5.2 Calcular la temperatura máxima, mínima, media y mediana para los datos inferiores y datos superiores."
      ],
      "metadata": {
        "id": "ZwqAqPNLgsaq"
      }
    },
    {
      "cell_type": "code",
      "source": [
        "# Cálculo de estadísticos grupo 01\n",
        "\n",
        "# --- Código aquí ---"
      ],
      "metadata": {
        "id": "zgyxLmOugu1N"
      },
      "execution_count": null,
      "outputs": []
    },
    {
      "cell_type": "code",
      "source": [
        "# Cálculo de estadísticos grupo 02\n",
        "\n",
        "# --- Código aquí ---"
      ],
      "metadata": {
        "id": "TgiSLK9-je5J"
      },
      "execution_count": null,
      "outputs": []
    },
    {
      "cell_type": "markdown",
      "source": [
        "### Agregar los resultados a la siguiente tabla\n",
        "\n",
        "\n",
        "> Gráfico de temperatura (Comparación de grupos)\n",
        "\n",
        "\n",
        "\n",
        "|  **Grupo de Variables**  | **Valor Máximo** | **Valor mínimo** | **Media** | **Mediana** |\n",
        "|:--------------|:----------------:|:----------------:|:---------:|:-----------:|\n",
        "| Grupo 01 (Temprano) |                  |                  |           |             |\n",
        "| Grupo 02 (Tarde)  |                  |                  |           |             |\n"
      ],
      "metadata": {
        "id": "th3XXHEwhanW"
      }
    },
    {
      "cell_type": "markdown",
      "source": [
        "# 6. Conclusiones\n",
        "\n",
        "*Escriba brevemente algunas conclusiones que puede sacar de los datos y su visualización.* `(Borrar este texto)`"
      ],
      "metadata": {
        "id": "U88HKfnejqZK"
      }
    }
  ]
}